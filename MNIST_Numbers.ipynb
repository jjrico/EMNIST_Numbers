{
  "nbformat": 4,
  "nbformat_minor": 0,
  "metadata": {
    "accelerator": "GPU",
    "colab": {
      "name": "MNIST_Numbers.ipynb",
      "provenance": [],
      "collapsed_sections": [],
      "toc_visible": true
    },
    "kernelspec": {
      "display_name": "Python 3",
      "name": "python3"
    }
  },
  "cells": [
    {
      "cell_type": "markdown",
      "metadata": {
        "id": "3wF5wszaj97Y"
      },
      "source": [
        "# ANN for Handwritten Number Recognition MNIST\n",
        "### By: Jeremy Rico\n",
        "### UNIQUIFY\n",
        "\n",
        "This program uses tensorflow keras to create a sequential model to classify handwritten numbers. The data set used is the MNIST dataset whih consists of over 60,000 training samples."
      ]
    },
    {
      "cell_type": "markdown",
      "metadata": {
        "id": "QS7DDTiZGRTo"
      },
      "source": [
        "### Import libraries"
      ]
    },
    {
      "cell_type": "code",
      "metadata": {
        "id": "0trJmd6DjqBZ"
      },
      "source": [
        "%matplotlib inline\n",
        "import matplotlib.pyplot as plt\n",
        "import tensorflow as tf\n",
        "from tensorflow.keras.models import Sequential\n",
        "from tensorflow.keras.layers import Dense, Flatten, Conv2D, Dropout\n",
        "from tensorflow.keras import Model"
      ],
      "execution_count": 120,
      "outputs": []
    },
    {
      "cell_type": "markdown",
      "metadata": {
        "id": "7NAbSZiaoJ4z"
      },
      "source": [
        "### Load Data\n",
        "\n"
      ]
    },
    {
      "cell_type": "code",
      "metadata": {
        "id": "JqFRS6K07jJs"
      },
      "source": [
        "# Load dataset\n",
        "mnist = tf.keras.datasets.mnist\n",
        "\n",
        "# Split into train and test \n",
        "(x_train, y_train), (x_test, y_test) = mnist.load_data()\n",
        "\n",
        "# Regularize\n",
        "x_train, x_test = x_train / 255.0, x_test / 255.0\n",
        "\n",
        "# Add a channels dimension\n",
        "x_train = x_train[..., tf.newaxis].astype(\"float32\")\n",
        "x_test = x_test[..., tf.newaxis].astype(\"float32\")"
      ],
      "execution_count": 121,
      "outputs": []
    },
    {
      "cell_type": "markdown",
      "metadata": {
        "id": "on3HPmmK9rn7"
      },
      "source": [
        "### Shuffle and split data"
      ]
    },
    {
      "cell_type": "code",
      "metadata": {
        "id": "8Iu_quO024c2"
      },
      "source": [
        "# Shuffle and split the data into batches\n",
        "train_ds = tf.data.Dataset.from_tensor_slices((x_train, y_train)).shuffle(10000).batch(32)\n",
        "test_ds = tf.data.Dataset.from_tensor_slices((x_test, y_test)).batch(32)"
      ],
      "execution_count": 122,
      "outputs": []
    },
    {
      "cell_type": "markdown",
      "metadata": {
        "id": "n6BhJTfK9wSU"
      },
      "source": [
        "### Class definition"
      ]
    },
    {
      "cell_type": "code",
      "metadata": {
        "id": "h3IKyzTCDNGo"
      },
      "source": [
        "# Creation of sequential model\n",
        "#   comment: tried dropout, but highest accuracy was achieved without it\n",
        "class MyModel(Model):\n",
        "\n",
        "  # initializer\n",
        "  def __init__(self):\n",
        "    super(MyModel, self).__init__()\n",
        "    self.seq1 = Sequential()\n",
        "    self.d1 = Dense(128, activation='relu')\n",
        "    self.flatten = Flatten()\n",
        "    #self.drop = Dropout(0.10)\n",
        "    self.d2 = Dense(10)\n",
        "\n",
        "  def call(self, x):\n",
        "    x = self.seq1(x)\n",
        "    x = self.flatten(x)\n",
        "    x = self.d1(x)\n",
        "    #x = self.drop(x)\n",
        "    return self.d2(x)\n",
        "\n",
        "# Create an instance of the model\n",
        "model = MyModel()"
      ],
      "execution_count": 123,
      "outputs": []
    },
    {
      "cell_type": "markdown",
      "metadata": {
        "id": "uGih-c2LgbJu"
      },
      "source": [
        "### Define metrics"
      ]
    },
    {
      "cell_type": "code",
      "metadata": {
        "id": "u48C9WQ774n4"
      },
      "source": [
        "# define loss and optimizer\n",
        "loss_object = tf.keras.losses.SparseCategoricalCrossentropy(from_logits=True)\n",
        "optimizer = tf.keras.optimizers.Adam()"
      ],
      "execution_count": 124,
      "outputs": []
    },
    {
      "cell_type": "code",
      "metadata": {
        "id": "N0MqHFb4F_qn"
      },
      "source": [
        "# select accuracy and loss metrics\n",
        "train_loss = tf.keras.metrics.Mean(name='train_loss')\n",
        "train_accuracy = tf.keras.metrics.SparseCategoricalAccuracy(name='train_accuracy')\n",
        "\n",
        "test_loss = tf.keras.metrics.Mean(name='test_loss')\n",
        "test_accuracy = tf.keras.metrics.SparseCategoricalAccuracy(name='test_accuracy')"
      ],
      "execution_count": 125,
      "outputs": []
    },
    {
      "cell_type": "markdown",
      "metadata": {
        "id": "qIMDC8Ag-CDf"
      },
      "source": [
        "### Training step function"
      ]
    },
    {
      "cell_type": "code",
      "metadata": {
        "id": "OZACiVqA8KQV"
      },
      "source": [
        "# Create function to train model using gradient tape\n",
        "@tf.function\n",
        "def train_step(images, labels):\n",
        "  with tf.GradientTape() as tape:\n",
        "    #training=True \n",
        "    predictions = model(images, training=True)\n",
        "    loss = loss_object(labels, predictions)\n",
        "  gradients = tape.gradient(loss, model.trainable_variables)\n",
        "  optimizer.apply_gradients(zip(gradients, model.trainable_variables))\n",
        "\n",
        "  train_loss(loss)\n",
        "  train_accuracy(labels, predictions)"
      ],
      "execution_count": 126,
      "outputs": []
    },
    {
      "cell_type": "markdown",
      "metadata": {
        "id": "ke9Wbe4b-FMF"
      },
      "source": [
        "### Test step function"
      ]
    },
    {
      "cell_type": "code",
      "metadata": {
        "id": "xIKdEzHAJGt7"
      },
      "source": [
        "# Create funtion to test the model\n",
        "@tf.function\n",
        "def test_step(images, labels):\n",
        "  #training=False\n",
        "  predictions = model(images, training=False)\n",
        "  t_loss = loss_object(labels, predictions)\n",
        "\n",
        "  test_loss(t_loss)\n",
        "  test_accuracy(labels, predictions)"
      ],
      "execution_count": 127,
      "outputs": []
    },
    {
      "cell_type": "markdown",
      "metadata": {
        "id": "LKGNTf1o-HVy"
      },
      "source": [
        "### Model training"
      ]
    },
    {
      "cell_type": "code",
      "metadata": {
        "id": "i-2pkctU_Ci7",
        "outputId": "4cff5bd1-176f-4cb1-9d8c-988ef5d82e32",
        "colab": {
          "base_uri": "https://localhost:8080/",
          "height": 384
        }
      },
      "source": [
        "# Define epochs here\n",
        "EPOCHS = 20\n",
        "# history is used to store metrics while the model is trained\n",
        "history = {'train_acc': [], 'train_loss': [], 'test_acc': [], 'test_loss': []}\n",
        "\n",
        "# Train and fit the model\n",
        "for epoch in range(EPOCHS):\n",
        "  # Reset metrics for each epoch\n",
        "  train_loss.reset_states()\n",
        "  train_accuracy.reset_states()\n",
        "  test_loss.reset_states()\n",
        "  test_accuracy.reset_states()\n",
        "\n",
        "  # call train function\n",
        "  for images, labels in train_ds:\n",
        "    train_step(images, labels)\n",
        "\n",
        "  # call test function\n",
        "  for test_images, test_labels in test_ds:\n",
        "    test_step(test_images, test_labels)\n",
        "\n",
        "  # print metrics\n",
        "  print(\n",
        "    f'Epoch {epoch + 1}, '\n",
        "    f'Loss: {train_loss.result()}, '\n",
        "    f'Accuracy: {train_accuracy.result()}, '\n",
        "    f'Test Loss: {test_loss.result()}, '\n",
        "    f'Test Accuracy: {test_accuracy.result()}'\n",
        "  )\n",
        "  \n",
        "  # store metrics in history\n",
        "  history['train_loss'].append(train_loss.result())\n",
        "  history['train_acc'].append(train_accuracy.result())\n",
        "  history['test_loss'].append(test_loss.result())\n",
        "  history['test_acc'].append(test_accuracy.result())"
      ],
      "execution_count": 128,
      "outputs": [
        {
          "output_type": "stream",
          "text": [
            "Epoch 1, Loss: 0.2626590132713318, Accuracy: 0.9250500202178955, Test Loss: 0.14835307002067566, Test Accuracy: 0.957099974155426\n",
            "Epoch 2, Loss: 0.11836730688810349, Accuracy: 0.963949978351593, Test Loss: 0.10231953114271164, Test Accuracy: 0.9693999886512756\n",
            "Epoch 3, Loss: 0.0823543444275856, Accuracy: 0.9749833345413208, Test Loss: 0.08575169742107391, Test Accuracy: 0.972599983215332\n",
            "Epoch 4, Loss: 0.061456140130758286, Accuracy: 0.981333315372467, Test Loss: 0.08868523687124252, Test Accuracy: 0.9739999771118164\n",
            "Epoch 5, Loss: 0.04741443693637848, Accuracy: 0.9851499795913696, Test Loss: 0.07808160036802292, Test Accuracy: 0.9753000140190125\n",
            "Epoch 6, Loss: 0.03770831227302551, Accuracy: 0.9880499839782715, Test Loss: 0.08081885427236557, Test Accuracy: 0.9758999943733215\n",
            "Epoch 7, Loss: 0.029365461319684982, Accuracy: 0.9909499883651733, Test Loss: 0.07748842239379883, Test Accuracy: 0.9772999882698059\n",
            "Epoch 8, Loss: 0.023517386987805367, Accuracy: 0.992816686630249, Test Loss: 0.07768026739358902, Test Accuracy: 0.9783999919891357\n",
            "Epoch 9, Loss: 0.019328709691762924, Accuracy: 0.9937999844551086, Test Loss: 0.07835722714662552, Test Accuracy: 0.9768999814987183\n",
            "Epoch 10, Loss: 0.01616211049258709, Accuracy: 0.9951000213623047, Test Loss: 0.09254968911409378, Test Accuracy: 0.9746999740600586\n",
            "Epoch 11, Loss: 0.013301653787493706, Accuracy: 0.9960500001907349, Test Loss: 0.07948042452335358, Test Accuracy: 0.9789000153541565\n",
            "Epoch 12, Loss: 0.011437831446528435, Accuracy: 0.9964500069618225, Test Loss: 0.08961919695138931, Test Accuracy: 0.9779999852180481\n",
            "Epoch 13, Loss: 0.010428410023450851, Accuracy: 0.9966333508491516, Test Loss: 0.0908031314611435, Test Accuracy: 0.9782999753952026\n",
            "Epoch 14, Loss: 0.009374032728374004, Accuracy: 0.9972333312034607, Test Loss: 0.09859564900398254, Test Accuracy: 0.9761999845504761\n",
            "Epoch 15, Loss: 0.008484015241265297, Accuracy: 0.9974499940872192, Test Loss: 0.0955272689461708, Test Accuracy: 0.9783999919891357\n",
            "Epoch 16, Loss: 0.006296506617218256, Accuracy: 0.9981833100318909, Test Loss: 0.09066496789455414, Test Accuracy: 0.9785000085830688\n",
            "Epoch 17, Loss: 0.007947913371026516, Accuracy: 0.9972666501998901, Test Loss: 0.09378039836883545, Test Accuracy: 0.9789000153541565\n",
            "Epoch 18, Loss: 0.005812451709061861, Accuracy: 0.998033344745636, Test Loss: 0.09718217700719833, Test Accuracy: 0.978600025177002\n",
            "Epoch 19, Loss: 0.006351503077894449, Accuracy: 0.9979833364486694, Test Loss: 0.10275471955537796, Test Accuracy: 0.9775999784469604\n",
            "Epoch 20, Loss: 0.0060104914009571075, Accuracy: 0.998283326625824, Test Loss: 0.12082882970571518, Test Accuracy: 0.9778000116348267\n"
          ],
          "name": "stdout"
        }
      ]
    },
    {
      "cell_type": "markdown",
      "metadata": {
        "id": "B2n_0vh6-KYn"
      },
      "source": [
        "### Results"
      ]
    },
    {
      "cell_type": "code",
      "metadata": {
        "id": "P59d1N0SCg9d",
        "outputId": "f4c0b733-80f8-4168-e940-a1a7d68faeae",
        "colab": {
          "base_uri": "https://localhost:8080/",
          "height": 86
        }
      },
      "source": [
        "print(\"Training accuracy after %d epochs: %f%%\" % (EPOCHS, history['train_acc'][-1] * 100))\n",
        "print(\"Test accuracy after %d epochs: %f%%\" % (EPOCHS, history['test_acc'][-1] * 100))\n",
        "print(\"Training loss after %d epochs: %f%%\" % (EPOCHS, history['train_loss'][-1] * 100))\n",
        "print(\"Test loss after %d epochs: %f%%\" % (EPOCHS, history['test_loss'][-1] * 100))"
      ],
      "execution_count": 129,
      "outputs": [
        {
          "output_type": "stream",
          "text": [
            "Training accuracy after 20 epochs: 99.828331%\n",
            "Test accuracy after 20 epochs: 97.779999%\n",
            "Training loss after 20 epochs: 0.601049%\n",
            "Test loss after 20 epochs: 12.082883%\n"
          ],
          "name": "stdout"
        }
      ]
    },
    {
      "cell_type": "code",
      "metadata": {
        "id": "1mxLJk2n1B6H",
        "outputId": "d57690fc-f0d3-4a23-e5be-17b9bab8d69f",
        "colab": {
          "base_uri": "https://localhost:8080/",
          "height": 573
        }
      },
      "source": [
        "# Plot training accuracy & loss values\n",
        "plt.plot(range(EPOCHS), history['train_acc'])\n",
        "plt.plot(range(EPOCHS), history['test_acc'])\n",
        "plt.title('Model accuracy')\n",
        "plt.ylabel('Accuracy')\n",
        "plt.xlabel('Epoch')\n",
        "plt.legend(['Train', 'Test'], loc='upper left')\n",
        "plt.show()\n",
        "\n",
        "# Plot test accuracy and loss values\n",
        "plt.plot(range(EPOCHS), history['train_loss'])\n",
        "plt.plot(range(EPOCHS), history['test_loss'])\n",
        "plt.title('Model loss')\n",
        "plt.ylabel('Loss')\n",
        "plt.xlabel('Epoch')\n",
        "plt.legend(['Train', 'Test'], loc='upper left')\n",
        "plt.show()"
      ],
      "execution_count": 130,
      "outputs": [
        {
          "output_type": "display_data",
          "data": {
            "image/png": "[encoded data removed]",
            "text/plain": [
              "<Figure size 432x288 with 1 Axes>"
            ]
          },
          "metadata": {
            "tags": [],
            "needs_background": "light"
          }
        },
        {
          "output_type": "display_data",
          "data": {
            "image/png": "[encoded data removed]",
            "text/plain": [
              "<Figure size 432x288 with 1 Axes>"
            ]
          },
          "metadata": {
            "tags": [],
            "needs_background": "light"
          }
        }
      ]
    },
    {
      "cell_type": "code",
      "metadata": {
        "id": "258aNPg9CYtC"
      },
      "source": [
        ""
      ],
      "execution_count": 130,
      "outputs": []
    }
  ]
}